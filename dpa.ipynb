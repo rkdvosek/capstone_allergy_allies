{
 "cells": [
  {
   "cell_type": "code",
   "execution_count": 93,
   "metadata": {},
   "outputs": [],
   "source": [
    "# Import necessary packages\n",
    "import pandas as pd\n",
    "import numpy as np\n",
    "import datetime\n",
    "from tabulate import tabulate\n",
    "from tableone import TableOne\n",
    "from vigipy import *\n",
    "from vigipy.utils import test_dispersion"
   ]
  },
  {
   "cell_type": "code",
   "execution_count": 94,
   "metadata": {},
   "outputs": [
    {
     "name": "stdout",
     "output_type": "stream",
     "text": [
      "Sheet name: faers_2004_2024q1_dictionary\n",
      "Sheet name: Target Drugs\n",
      "Sheet name: Psychiatric Disorder Reac Grp\n"
     ]
    }
   ],
   "source": [
    "# Load in file\n",
    "file_path = r'C:\\Users\\katel\\OneDrive\\Documents\\2024-2025\\CMDA 4864\\cleaned_target_drugs.csv' \n",
    "df = pd.read_csv(file_path)\n",
    "\n",
    "data_dictionary = r\"faers_analysis_dataset_dictionary.xlsx\"\n",
    "df_dictionary = pd.read_excel(data_dictionary, sheet_name=None)\n",
    "for sheet_name, drug in df_dictionary.items():\n",
    "    # Perform your processing here\n",
    "    print(f\"Sheet name: {sheet_name}\")\n",
    "\n",
    "#Get the sheet named Psychiatric Disorder Reac Grp from df_dictionary\n",
    "df_faers_data_dictionary = df_dictionary['faers_2004_2024q1_dictionary']\n",
    "df_target_drugs = df_dictionary['Target Drugs']\n",
    "df_psychiatric = df_dictionary['Psychiatric Disorder Reac Grp']"
   ]
  },
  {
   "cell_type": "code",
   "execution_count": 95,
   "metadata": {},
   "outputs": [],
   "source": [
    "#Remove the warnings\n",
    "pd.options.mode.chained_assignment = None"
   ]
  },
  {
   "cell_type": "code",
   "execution_count": 96,
   "metadata": {},
   "outputs": [
    {
     "name": "stdout",
     "output_type": "stream",
     "text": [
      "['singulair' 'allegra' 'zyrtec' 'claritin' 'accolate' 'zyflo' 'xyzal']\n",
      "[2004 2005 2006 2007 2008 2009 2010 2011 2012 2013 2014 2015 2016 2017\n",
      " 2018 2019 1998 2000 2020 2021 2022 2023 2024]\n"
     ]
    }
   ],
   "source": [
    "#Convert the fda_dt column to datetime\n",
    "df['fda_dt'] = pd.to_datetime(df['fda_dt'])\n",
    "df['event_dt'] = pd.to_datetime(df['event_dt'])\n",
    "\n",
    "print(df['ps_drugname'].unique())\n",
    "print(df['fda_dt'].dt.year.unique())"
   ]
  },
  {
   "cell_type": "code",
   "execution_count": null,
   "metadata": {},
   "outputs": [],
   "source": [
    "df_reaction_test = df.assign(reaction_pt=df['reaction_pt'].str.split(r',\\s*|;')).explode('reaction_pt')\n",
    "#Lowercase strings and strips whitespace in the Reaction column in df_reaction_test\n",
    "df_reaction_test['reaction_pt'] = df_reaction_test['reaction_pt'].str.strip().str.lower()\n",
    "\n",
    "#Lowercase strings in the Reaction column in df_psychiatric\n",
    "df_psychiatric['Reaction'] = df_psychiatric['Reaction'].str.strip().str.lower()\n",
    "\n",
    "#Filter the data to only include the reactions in the Psychiatric Disorder Reac Grp sheet\n",
    "#df_reaction_test = df_reaction_test[df_reaction_test['reaction_pt'].isin(df_psychiatric['Reaction'].unique())]\n",
    "\n",
    "#df_reaction_test['year'] = df_reaction_test['fda_dt'].dt.year\n",
    "\n",
    "\n",
    "#Makes the reaction column in df_reaction_test a category\n",
    "df_reaction_test = df_reaction_test.rename(columns={'reaction_pt': 'AE'})\n",
    "df_reaction_test = df_reaction_test.rename(columns={'allergy_medication': 'name'})\n",
    "df_reaction_test = df_reaction_test.rename(columns={'fda_dt': 'date'})\n",
    "\n",
    "df_reaction_counts['count'] = df_reaction_test['AE'].value_counts()\n",
    "#df_reaction_counts = df_reaction_counts.to_frame()\n",
    "\n",
    "#df_reaction_counts = df_reaction_counts.rename(columns={'reaction_pt': 'AE'})"
   ]
  },
  {
   "cell_type": "code",
   "execution_count": 80,
   "metadata": {},
   "outputs": [
    {
     "name": "stdout",
     "output_type": "stream",
     "text": [
      "                            count\n",
      "AE                               \n",
      "drug ineffective            14229\n",
      "dyspnoea                     6930\n",
      "asthma                       6452\n",
      "fatigue                      6022\n",
      "off label use                5411\n",
      "...                           ...\n",
      "urethral obstruction            1\n",
      "sunct syndrome                  1\n",
      "exposure via inhalation         1\n",
      "application site infection      1\n",
      "hemihypoaesthesia               1\n",
      "\n",
      "[5518 rows x 1 columns]\n"
     ]
    }
   ],
   "source": [
    "print(df_reaction_counts)"
   ]
  },
  {
   "cell_type": "code",
   "execution_count": 118,
   "metadata": {},
   "outputs": [],
   "source": [
    "keep_columns=['AE','name','date']\n",
    "df_reaction=df_reaction_test[keep_columns]\n",
    "df_reaction['count']=1\n",
    "df_reaction=df_reaction[df_reaction['date'].dt.year<2020]"
   ]
  },
  {
   "cell_type": "code",
   "execution_count": 119,
   "metadata": {},
   "outputs": [
    {
     "data": {
      "text/html": [
       "<div>\n",
       "<style scoped>\n",
       "    .dataframe tbody tr th:only-of-type {\n",
       "        vertical-align: middle;\n",
       "    }\n",
       "\n",
       "    .dataframe tbody tr th {\n",
       "        vertical-align: top;\n",
       "    }\n",
       "\n",
       "    .dataframe thead th {\n",
       "        text-align: right;\n",
       "    }\n",
       "</style>\n",
       "<table border=\"1\" class=\"dataframe\">\n",
       "  <thead>\n",
       "    <tr style=\"text-align: right;\">\n",
       "      <th></th>\n",
       "      <th>AE</th>\n",
       "      <th>name</th>\n",
       "      <th>date</th>\n",
       "      <th>count</th>\n",
       "    </tr>\n",
       "  </thead>\n",
       "  <tbody>\n",
       "    <tr>\n",
       "      <th>0</th>\n",
       "      <td>dizziness</td>\n",
       "      <td>SINGULAIR</td>\n",
       "      <td>2004-01-05</td>\n",
       "      <td>1</td>\n",
       "    </tr>\n",
       "    <tr>\n",
       "      <th>0</th>\n",
       "      <td>feeling hot</td>\n",
       "      <td>SINGULAIR</td>\n",
       "      <td>2004-01-05</td>\n",
       "      <td>1</td>\n",
       "    </tr>\n",
       "    <tr>\n",
       "      <th>0</th>\n",
       "      <td>hyperhidrosis</td>\n",
       "      <td>SINGULAIR</td>\n",
       "      <td>2004-01-05</td>\n",
       "      <td>1</td>\n",
       "    </tr>\n",
       "    <tr>\n",
       "      <th>1</th>\n",
       "      <td>neuritis</td>\n",
       "      <td>ALLEGRA</td>\n",
       "      <td>2004-01-06</td>\n",
       "      <td>1</td>\n",
       "    </tr>\n",
       "    <tr>\n",
       "      <th>1</th>\n",
       "      <td>vision blurred</td>\n",
       "      <td>ALLEGRA</td>\n",
       "      <td>2004-01-06</td>\n",
       "      <td>1</td>\n",
       "    </tr>\n",
       "  </tbody>\n",
       "</table>\n",
       "</div>"
      ],
      "text/plain": [
       "               AE       name       date  count\n",
       "0       dizziness  SINGULAIR 2004-01-05      1\n",
       "0     feeling hot  SINGULAIR 2004-01-05      1\n",
       "0   hyperhidrosis  SINGULAIR 2004-01-05      1\n",
       "1        neuritis    ALLEGRA 2004-01-06      1\n",
       "1  vision blurred    ALLEGRA 2004-01-06      1"
      ]
     },
     "execution_count": 119,
     "metadata": {},
     "output_type": "execute_result"
    }
   ],
   "source": [
    "df_reaction.head()"
   ]
  },
  {
   "cell_type": "code",
   "execution_count": 120,
   "metadata": {},
   "outputs": [],
   "source": [
    "v_data = convert(df_reaction)\n",
    "results_prr=prr(v_data)\n",
    "results_prr.signals.to_excel('possible_signals_prr.xlsx', index=False)"
   ]
  },
  {
   "cell_type": "code",
   "execution_count": 121,
   "metadata": {},
   "outputs": [],
   "source": [
    "results_ror=ror(v_data)\n",
    "results_ror.signals.to_excel('possible_signals_ror.xlsx', index=False)"
   ]
  },
  {
   "cell_type": "code",
   "execution_count": 122,
   "metadata": {},
   "outputs": [
    {
     "name": "stderr",
     "output_type": "stream",
     "text": [
      "c:\\Users\\katel\\anaconda3\\lib\\site-packages\\vigipy-0.2.1-py3.9.egg\\vigipy\\utils\\expectations.py:52: FutureWarning: Series.__getitem__ treating keys as positions is deprecated. In a future version, integer keys will always be treated as labels (consistent with DataFrame behavior). To access a value by position, use `ser.iloc[pos]`\n"
     ]
    }
   ],
   "source": [
    "dispersion_data = test_dispersion(v_data)\n",
    "alpha = dispersion_data[\"alpha\"] if dispersion_data[\"dispersion\"] > 2 else 1\n",
    "\n",
    "results_bcpnn=bcpnn(v_data, expected_method='negative-binomial', method_alpha=alpha, min_events=3)\n",
    "results_bcpnn.signals.to_excel('possible_signals_bcpnn.xlsx', index=False)"
   ]
  },
  {
   "cell_type": "markdown",
   "metadata": {},
   "source": [
    "Test data"
   ]
  },
  {
   "cell_type": "code",
   "execution_count": 2,
   "metadata": {},
   "outputs": [],
   "source": [
    "file_path = r\"C:\\Users\\katel\\OneDrive\\Documents\\2024-2025\\CMDA 4864\\vigipy-master\\vigipy-master\\test\\fixtures\\sample.csv\" \n",
    "df = pd.read_csv(file_path)"
   ]
  },
  {
   "cell_type": "code",
   "execution_count": 3,
   "metadata": {},
   "outputs": [],
   "source": [
    "# need to tranform dataframe to have columns AE, count, name, and date \n",
    "\n",
    "\n",
    "\n",
    "v_data = convert(df)\n",
    "results = gps(v_data, min_events=5, decision_metric='rank',\n",
    "              decision_thres=1, ranking_statistic='log2', minimization_method=\"Nelder-Mead\")\n",
    "results.signals.to_excel('possible_signals.xlsx', index=False)"
   ]
  },
  {
   "cell_type": "code",
   "execution_count": 4,
   "metadata": {},
   "outputs": [],
   "source": [
    "results_prr=prr(v_data)\n",
    "results_prr.signals.to_excel('possible_signals_prr.xlsx', index=False)"
   ]
  },
  {
   "cell_type": "code",
   "execution_count": 5,
   "metadata": {},
   "outputs": [],
   "source": [
    "results_ror=ror(v_data)\n",
    "results_ror.signals.to_excel('possible_signals_ror.xlsx', index=False)"
   ]
  },
  {
   "cell_type": "code",
   "execution_count": 9,
   "metadata": {},
   "outputs": [
    {
     "name": "stderr",
     "output_type": "stream",
     "text": [
      "c:\\Users\\katel\\anaconda3\\lib\\site-packages\\vigipy-0.2.1-py3.9.egg\\vigipy\\utils\\expectations.py:52: FutureWarning: Series.__getitem__ treating keys as positions is deprecated. In a future version, integer keys will always be treated as labels (consistent with DataFrame behavior). To access a value by position, use `ser.iloc[pos]`\n"
     ]
    },
    {
     "data": {
      "text/plain": [
       "<vigipy.utils.Container.Container at 0x1b4294d7af0>"
      ]
     },
     "execution_count": 9,
     "metadata": {},
     "output_type": "execute_result"
    }
   ],
   "source": [
    "dispersion_data = test_dispersion(v_data)\n",
    "alpha = dispersion_data[\"alpha\"] if dispersion_data[\"dispersion\"] > 2 else 1\n",
    "\n",
    "bcpnn(v_data, expected_method='negative-binomial', method_alpha=alpha, min_events=3)"
   ]
  }
 ],
 "metadata": {
  "kernelspec": {
   "display_name": "base",
   "language": "python",
   "name": "python3"
  },
  "language_info": {
   "codemirror_mode": {
    "name": "ipython",
    "version": 3
   },
   "file_extension": ".py",
   "mimetype": "text/x-python",
   "name": "python",
   "nbconvert_exporter": "python",
   "pygments_lexer": "ipython3",
   "version": "3.9.7"
  }
 },
 "nbformat": 4,
 "nbformat_minor": 2
}
